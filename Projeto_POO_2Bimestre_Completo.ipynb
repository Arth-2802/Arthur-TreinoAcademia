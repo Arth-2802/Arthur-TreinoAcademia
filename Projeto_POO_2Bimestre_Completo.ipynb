{
 "cells": [
  {
   "cell_type": "markdown",
   "id": "fcbe0b0b",
   "metadata": {},
   "source": [
    "# 📘 Projeto de Programação Orientada a Objetos – 2º Bimestre\n",
    "\n",
    "**Nome do Aluno:** Arthur Martins                      \n",
    "\n",
    "**Turma:** 2ºATI\n",
    "\n",
    "**Tema Escolhido:** Sistema que Organiza Treinos de Academia"
   ]
  },
  {
   "cell_type": "markdown",
   "id": "47e697ce",
   "metadata": {},
   "source": [
    "Lembre-se esse projeto deve ser personalizado, todas as classe e metodos devem ter uma referencia ao seu nome, exemplo:\n",
    "\n",
    "class Carro_Fabio:\n",
    "\n",
    "    def __init__(self, tipo, cor, rodas):\n",
    "        self.tipo = tipo\n",
    "        self.cor = cor\n",
    "        self.rodas = rodas\n",
    "        \n",
    "    def alterar_cor_Fabio(self, nova_cor):\n",
    "        self.cor = nova_cor\n",
    "        return self.cor\n",
    "    "
   ]
  },
  {
   "cell_type": "markdown",
   "id": "bf0b9458",
   "metadata": {},
   "source": [
    "## PARTE 1 – Classe Principal e Objetos\n",
    "\n",
    "**Tarefas:**\n",
    "- Definir e criar a classe principal com pelo menos 3 atributos.\n",
    "- Implementar o método construtor (`__init__`).\n",
    "- Criar pelo menos 2 objetos da classe principal.\n",
    "- Implementar um método de exibição de dados.\n",
    "\n",
    "**Código:**"
   ]
  },
  {
   "cell_type": "code",
   "execution_count": 1,
   "id": "5721fa89",
   "metadata": {},
   "outputs": [],
   "source": [
    "# Desenvolva aqui o código da Parte 1"
   ]
  },
  {
   "cell_type": "markdown",
   "id": "f2cf3375",
   "metadata": {},
   "source": [
    "## PARTE 2 – Métodos e Herança\n",
    "\n",
    "**Tarefas:**\n",
    "- Criar pelo menos 2 métodos de ação para a classe principal.\n",
    "- Criar uma subclasse herdando da classe principal.\n",
    "- Adicionar pelo menos 1 novo atributo e 1 novo método exclusivo na subclasse.\n",
    "- Utilizar `super()` no construtor da subclasse.\n",
    "\n",
    "**Código:**"
   ]
  },
  {
   "cell_type": "code",
   "execution_count": 2,
   "id": "5f456eb1",
   "metadata": {},
   "outputs": [],
   "source": [
    "# Desenvolva aqui o código da Parte 2"
   ]
  },
  {
   "cell_type": "markdown",
   "id": "3e0a77b0",
   "metadata": {},
   "source": [
    "## PARTE 3 – Encapsulamento e Abstração\n",
    "\n",
    "**Tarefas:**\n",
    "- Tornar pelo menos 1 atributo da classe principal privado (`__atributo`).\n",
    "- Criar métodos `get` e `set` para o atributo privado.\n",
    "- Implementar um método que contenha lógica interna (ex: cálculo, verificação).\n",
    "\n",
    "**Código:**"
   ]
  },
  {
   "cell_type": "code",
   "execution_count": 3,
   "id": "0bdb445e",
   "metadata": {},
   "outputs": [],
   "source": [
    "# Desenvolva aqui o código da Parte 3"
   ]
  },
  {
   "cell_type": "markdown",
   "id": "fb9df3e9",
   "metadata": {},
   "source": [
    "## PARTE 4 – Polimorfismo e Banco de Dados\n",
    "\n",
    "**Tarefas:**\n",
    "- Implementar polimorfismo: sobrescrever um método na subclasse.\n",
    "- Integrar o sistema com banco de dados (MySQL ou SQLite).\n",
    "- Implementar inserção (INSERT), consulta (SELECT) e exclusão (DELETE) de registros no banco de dados.\n",
    "\n",
    "**Código:**"
   ]
  },
  {
   "cell_type": "code",
   "execution_count": 4,
   "id": "56a4c46a",
   "metadata": {},
   "outputs": [],
   "source": [
    "# Desenvolva aqui o código da Parte 4"
   ]
  },
  {
   "cell_type": "markdown",
   "id": "d8bbf974",
   "metadata": {},
   "source": [
    "## PARTE 5 – Projeto Final e Organização\n",
    "\n",
    "**Tarefas:**\n",
    "- Consolidar todas as partes do projeto em um único script organizado.\n",
    "- Comentar o código explicando cada parte.\n",
    "- Testar todas as funcionalidades.\n",
    "\n",
    "**Código:**"
   ]
  },
  {
   "cell_type": "code",
   "execution_count": null,
   "id": "54b3cdd7",
   "metadata": {},
   "outputs": [
    {
     "name": "stdout",
     "output_type": "stream",
     "text": [
      "Defaulting to user installation because normal site-packages is not writeable\n",
      "Requirement already satisfied: mysql-connector-python in c:\\users\\moraes_martins\\appdata\\roaming\\python\\python312\\site-packages (9.3.0)\n",
      "=== SISTEMA DE CADASTRO DE TREINOS ===\n"
     ]
    }
   ],
   "source": [
    "# Desenvolva aqui o código da Parte 5\n",
    "!pip install mysql-connector-python\n",
    "import mysql.connector\n",
    "\n",
    "# Função para conectar ao banco MySQL (XAMPP)\n",
    "def conectar_banco():\n",
    "    return mysql.connector.connect(\n",
    "        host=\"localhost\",\n",
    "        user=\"root\",\n",
    "        password=\"\",  # Senha padrão do XAMPP\n",
    "        database=\"academia\"\n",
    "    )\n",
    "\n",
    "# Classe principal\n",
    "class Treino:\n",
    "    def __init__(self, nome, tipo, duracao):\n",
    "        self.nome = nome\n",
    "        self.tipo = tipo\n",
    "        self.__duracao = duracao  # atributo privado\n",
    "\n",
    "    def exibir_dados(self):\n",
    "        print(f\"Treino: {self.nome} | Tipo: {self.tipo} | Duração: {self.__duracao} min\")\n",
    "\n",
    "    def realizar_treino(self):\n",
    "        print(f\"Iniciando treino de {self.nome} por {self.__duracao} minutos...\")\n",
    "\n",
    "    def mostrar_intensidade(self):\n",
    "        if self.__duracao < 20:\n",
    "            print(\"Intensidade: Leve\")\n",
    "        elif self.__duracao <= 40:\n",
    "            print(\"Intensidade: Média\")\n",
    "        else:\n",
    "            print(\"Intensidade: Alta\")\n",
    "\n",
    "    # Get e set para o atributo privado\n",
    "    def get_duracao(self):\n",
    "        return self.__duracao\n",
    "\n",
    "    def set_duracao(self, nova_duracao):\n",
    "        if nova_duracao > 0:\n",
    "            self.__duracao = nova_duracao\n",
    "        else:\n",
    "            print(\"Duração inválida!\")\n",
    "\n",
    "# Subclasse que herda de Treino\n",
    "class TreinoEspecial(Treino):\n",
    "    def __init__(self, nome, tipo, duracao, treinador):\n",
    "        super().__init__(nome, tipo, duracao)\n",
    "        self.treinador = treinador\n",
    "\n",
    "    def exibir_treinador(self):\n",
    "        print(f\"Treinador responsável: {self.treinador}\")\n",
    "\n",
    "    # Polimorfismo (sobrescrita de método)\n",
    "    def exibir_dados(self):\n",
    "        super().exibir_dados()\n",
    "        print(f\"Treinador: {self.treinador}\")\n",
    "\n",
    "# Funções para MySQL\n",
    "def inserir_treino(nome, tipo, duracao):\n",
    "    conn = conectar_banco()\n",
    "    cursor = conn.cursor()\n",
    "    sql = \"INSERT INTO treino (nome, tipo, duracao) VALUES (%s, %s, %s)\"\n",
    "    cursor.execute(sql, (nome, tipo, duracao))\n",
    "    conn.commit()\n",
    "    conn.close()\n",
    "    print(\"Treino inserido com sucesso no banco.\")\n",
    "\n",
    "def listar_treinos():\n",
    "    conn = conectar_banco()\n",
    "    cursor = conn.cursor()\n",
    "    cursor.execute(\"SELECT * FROM treino\")\n",
    "    resultados = cursor.fetchall()\n",
    "    print(\"\\n=== LISTA DE TREINOS CADASTRADOS ===\")\n",
    "    for linha in resultados:\n",
    "        print(f\"ID: {linha[0]} | Nome: {linha[1]} | Tipo: {linha[2]} | Duração: {linha[3]} min\")\n",
    "    conn.close()\n",
    "\n",
    "def excluir_treino(id_treino):\n",
    "    conn = conectar_banco()\n",
    "    cursor = conn.cursor()\n",
    "    cursor.execute(\"DELETE FROM treinos WHERE id = %s\", (id_treino,))\n",
    "    conn.commit()\n",
    "    conn.close()\n",
    "    print(\"Treino excluído com sucesso.\")\n",
    "\n",
    "# Função principal\n",
    "def main():\n",
    "    print(\"=== SISTEMA DE CADASTRO DE TREINOS ===\")\n",
    "\n",
    "    # Entrada dos dados via input\n",
    "    nome1 = input(\"Digite o nome do primeiro treino: \")\n",
    "    tipo1 = input(\"Digite o tipo do treino (Cardio/Força): \")\n",
    "    duracao1 = int(input(\"Digite a duração do treino (minutos): \"))\n",
    "\n",
    "    treino1 = Treino(nome1, tipo1, duracao1)\n",
    "\n",
    "    nome2 = input(\"\\nDigite o nome do segundo treino especial: \")\n",
    "    tipo2 = input(\"Digite o tipo do treino (Cardio/Força): \")\n",
    "    duracao2 = int(input(\"Digite a duração do treino (minutos): \"))\n",
    "    treinador = input(\"Digite o nome do treinador responsável: \")\n",
    "\n",
    "    treino2 = TreinoEspecial(nome2, tipo2, duracao2, treinador)\n",
    "\n",
    "    # Usando métodos\n",
    "    print(\"\\n--- Informações do primeiro treino ---\")\n",
    "    treino1.exibir_dados()\n",
    "    treino1.realizar_treino()\n",
    "    treino1.mostrar_intensidade()\n",
    "\n",
    "    print(\"\\n--- Informações do segundo treino (especial) ---\")\n",
    "    treino2.exibir_dados()\n",
    "    treino2.exibir_treinador()\n",
    "    treino2.mostrar_intensidade()\n",
    "\n",
    "    # Inserir no banco\n",
    "    inserir_treino(treino1.nome, treino1.tipo, treino1.get_duracao())\n",
    "    inserir_treino(treino2.nome, treino2.tipo, treino2.get_duracao())\n",
    "\n",
    "    # Listar treinos do banco\n",
    "    listar_treinos()\n",
    "\n",
    "    # Excluir algum treino\n",
    "    id_excluir = input(\"\\nDigite o ID de um treino para excluir (ou ENTER para pular): \")\n",
    "    if id_excluir.isdigit():\n",
    "        excluir_treino(int(id_excluir))\n",
    "        listar_treinos()\n",
    "\n",
    "if __name__ == \"__main__\":\n",
    "    main()"
   ]
  },
  {
   "cell_type": "code",
   "execution_count": null,
   "id": "9e0a56b1-8ad0-4f0e-8699-0e272d778ddc",
   "metadata": {},
   "outputs": [],
   "source": []
  }
 ],
 "metadata": {
  "kernelspec": {
   "display_name": "Python 3 (ipykernel)",
   "language": "python",
   "name": "python3"
  },
  "language_info": {
   "codemirror_mode": {
    "name": "ipython",
    "version": 3
   },
   "file_extension": ".py",
   "mimetype": "text/x-python",
   "name": "python",
   "nbconvert_exporter": "python",
   "pygments_lexer": "ipython3",
   "version": "3.12.7"
  }
 },
 "nbformat": 4,
 "nbformat_minor": 5
}
